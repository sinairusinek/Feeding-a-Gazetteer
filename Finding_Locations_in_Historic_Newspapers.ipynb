{
  "nbformat": 4,
  "nbformat_minor": 0,
  "metadata": {
    "colab": {
      "name": "Finding_Locations_in_Historic_Newspapers.ipynb",
      "provenance": [],
      "collapsed_sections": []
    },
    "kernelspec": {
      "display_name": "Python 3",
      "name": "python3"
    },
    "language_info": {
      "name": "python"
    }
  },
  "cells": [
    {
      "cell_type": "markdown",
      "metadata": {
        "id": "rexGnKqjJWZY"
      },
      "source": [
        "# installations & imports"
      ]
    },
    {
      "cell_type": "code",
      "metadata": {
        "colab": {
          "base_uri": "https://localhost:8080/"
        },
        "id": "uTyHoamzJN3L",
        "outputId": "a0615a03-85c5-497c-8114-898eb31328bc"
      },
      "source": [
        "!sudo apt-get install python-numpy libicu-dev \n",
        "!pip install pyicu\n",
        "!pip3 install pycld2\n",
        "!pip install morfessor\n",
        "#!pip install polyglot\n",
        "!pip install gensim"
      ],
      "execution_count": null,
      "outputs": [
        {
          "output_type": "stream",
          "name": "stdout",
          "text": [
            "Reading package lists... Done\n",
            "Building dependency tree       \n",
            "Reading state information... Done\n",
            "python-numpy is already the newest version (1:1.13.3-2ubuntu1).\n",
            "python-numpy set to manually installed.\n",
            "libicu-dev is already the newest version (60.2-3ubuntu3.1).\n",
            "0 upgraded, 0 newly installed, 0 to remove and 37 not upgraded.\n",
            "Collecting pyicu\n",
            "  Downloading PyICU-2.7.4.tar.gz (298 kB)\n",
            "\u001b[K     |████████████████████████████████| 298 kB 35.5 MB/s \n",
            "\u001b[?25hBuilding wheels for collected packages: pyicu\n",
            "  Building wheel for pyicu (setup.py) ... \u001b[?25l\u001b[?25hdone\n",
            "  Created wheel for pyicu: filename=PyICU-2.7.4-cp37-cp37m-linux_x86_64.whl size=1374964 sha256=a9a5c63be51a10f9cd1fb06dc468042f527df7434e977d060d5c918cf5f80152\n",
            "  Stored in directory: /root/.cache/pip/wheels/c4/3a/c8/2d2397cd8f6cd04489ecac3d1e6821bb4938d73312d69b834f\n",
            "Successfully built pyicu\n",
            "Installing collected packages: pyicu\n",
            "Successfully installed pyicu-2.7.4\n",
            "Collecting pycld2\n",
            "  Downloading pycld2-0.41.tar.gz (41.4 MB)\n",
            "\u001b[K     |████████████████████████████████| 41.4 MB 40 kB/s \n",
            "\u001b[?25hBuilding wheels for collected packages: pycld2\n",
            "  Building wheel for pycld2 (setup.py) ... \u001b[?25l\u001b[?25hdone\n",
            "  Created wheel for pycld2: filename=pycld2-0.41-cp37-cp37m-linux_x86_64.whl size=9834284 sha256=1dc1fd65dbe7a9922ceac2e15f932e839d4da8a73aa22ecd3c54fe82714f3ecd\n",
            "  Stored in directory: /root/.cache/pip/wheels/ed/e4/58/ed2e9f43c07d617cc81fe7aff0fc6e42b16c9cf6afe960b614\n",
            "Successfully built pycld2\n",
            "Installing collected packages: pycld2\n",
            "Successfully installed pycld2-0.41\n",
            "Collecting morfessor\n",
            "  Downloading Morfessor-2.0.6-py3-none-any.whl (35 kB)\n",
            "Installing collected packages: morfessor\n",
            "Successfully installed morfessor-2.0.6\n",
            "Requirement already satisfied: gensim in /usr/local/lib/python3.7/dist-packages (3.6.0)\n",
            "Requirement already satisfied: six>=1.5.0 in /usr/local/lib/python3.7/dist-packages (from gensim) (1.15.0)\n",
            "Requirement already satisfied: scipy>=0.18.1 in /usr/local/lib/python3.7/dist-packages (from gensim) (1.4.1)\n",
            "Requirement already satisfied: smart-open>=1.2.1 in /usr/local/lib/python3.7/dist-packages (from gensim) (5.2.1)\n",
            "Requirement already satisfied: numpy>=1.11.3 in /usr/local/lib/python3.7/dist-packages (from gensim) (1.19.5)\n"
          ]
        }
      ]
    },
    {
      "cell_type": "code",
      "metadata": {
        "id": "tnPNKuQdJhQt"
      },
      "source": [
        "\n",
        "import pandas as pd\n",
        "#import polyglot\n",
        "#from polyglot.text import Text\n",
        "import gensim \n",
        "import multiprocessing\n",
        "from gensim.models import Word2Vec\n",
        "from gensim.models.word2vec import LineSentence\n",
        "import random\n",
        "import matplotlib.pyplot as plt\n",
        "import re\n",
        "import numpy as np\n",
        "from gensim.matutils import unitvec\n"
      ],
      "execution_count": null,
      "outputs": []
    },
    {
      "cell_type": "markdown",
      "metadata": {
        "id": "mDic7T4ZKUxD"
      },
      "source": [
        "# Get data from drive\n",
        "Our corpus includes the following entries:\n",
        "1. article_id :  a unique id for every article in the corpus\n",
        "2. newspaper code, with one of 5 newspaper codes\n",
        "3. year\n",
        "4. text\n",
        "5. wordnumber\n"
      ]
    },
    {
      "cell_type": "code",
      "metadata": {
        "colab": {
          "base_uri": "https://localhost:8080/"
        },
        "id": "1WUT6heP3FZp",
        "outputId": "89946479-4d67-422e-f133-32d245758982"
      },
      "source": [
        "from google.colab import drive\n",
        "drive.mount('/content/drive')"
      ],
      "execution_count": null,
      "outputs": [
        {
          "output_type": "stream",
          "name": "stdout",
          "text": [
            "Mounted at /content/drive\n"
          ]
        }
      ]
    },
    {
      "cell_type": "code",
      "metadata": {
        "id": "_ar1japzJngY"
      },
      "source": [
        "all_newspapers_data = pd.read_csv('drive/MyDrive/Nitzan+Sinai/MGD_LBN_MLZ_HZF_HZTfull2021-08-14.tsv', sep = '\\t')"
      ],
      "execution_count": null,
      "outputs": []
    },
    {
      "cell_type": "code",
      "metadata": {
        "colab": {
          "base_uri": "https://localhost:8080/"
        },
        "id": "d3cXAgO4J_2d",
        "outputId": "d5dae475-ec92-4c49-a995-1dd84805b0ef"
      },
      "source": [
        "all_newspapers_data.shape"
      ],
      "execution_count": null,
      "outputs": [
        {
          "output_type": "execute_result",
          "data": {
            "text/plain": [
              "(69442, 5)"
            ]
          },
          "metadata": {},
          "execution_count": 6
        }
      ]
    },
    {
      "cell_type": "code",
      "metadata": {
        "colab": {
          "base_uri": "https://localhost:8080/",
          "height": 204
        },
        "id": "WI7g3H0jKjnR",
        "outputId": "8e5e438f-4d53-4164-e941-044758a38c33"
      },
      "source": [
        "all_newspapers_data.head()"
      ],
      "execution_count": null,
      "outputs": [
        {
          "output_type": "execute_result",
          "data": {
            "text/html": [
              "<div>\n",
              "<style scoped>\n",
              "    .dataframe tbody tr th:only-of-type {\n",
              "        vertical-align: middle;\n",
              "    }\n",
              "\n",
              "    .dataframe tbody tr th {\n",
              "        vertical-align: top;\n",
              "    }\n",
              "\n",
              "    .dataframe thead th {\n",
              "        text-align: right;\n",
              "    }\n",
              "</style>\n",
              "<table border=\"1\" class=\"dataframe\">\n",
              "  <thead>\n",
              "    <tr style=\"text-align: right;\">\n",
              "      <th></th>\n",
              "      <th>article_id</th>\n",
              "      <th>newspaper-code</th>\n",
              "      <th>year</th>\n",
              "      <th>text</th>\n",
              "      <th>wordsNumber</th>\n",
              "    </tr>\n",
              "  </thead>\n",
              "  <tbody>\n",
              "    <tr>\n",
              "      <th>0</th>\n",
              "      <td>021-HLB-1874-01-07-PG001-SINGLE-ORIGNAME_10035...</td>\n",
              "      <td>HLB</td>\n",
              "      <td>1874</td>\n",
              "      <td>Hebraische Ausgabe des „sraelit  ווי נומע כא 2...</td>\n",
              "      <td>530.0</td>\n",
              "    </tr>\n",
              "    <tr>\n",
              "      <th>1</th>\n",
              "      <td>021-HLB-1874-01-07-PG001-SINGLE-ORIGNAME_10035...</td>\n",
              "      <td>HLB</td>\n",
              "      <td>1874</td>\n",
              "      <td>הנסיעה על כנפי רוח הדמיון ברום עולם כִּי אַרְא...</td>\n",
              "      <td>5669.0</td>\n",
              "    </tr>\n",
              "    <tr>\n",
              "      <th>2</th>\n",
              "      <td>021-HLB-1874-01-07-PG001-SINGLE-ORIGNAME_10035...</td>\n",
              "      <td>HLB</td>\n",
              "      <td>1874</td>\n",
              "      <td>ווארשויא  תולדות בית בערקזא הן זאנגענבערג  (הע...</td>\n",
              "      <td>3819.0</td>\n",
              "    </tr>\n",
              "    <tr>\n",
              "      <th>3</th>\n",
              "      <td>021-HLB-1874-01-07-PG001-SINGLE-ORIGNAME_10035...</td>\n",
              "      <td>HLB</td>\n",
              "      <td>1874</td>\n",
              "      <td>חדשות שונות (ההיזק אשר הגיע למדינת ספרד ע״י המ...</td>\n",
              "      <td>70.0</td>\n",
              "    </tr>\n",
              "    <tr>\n",
              "      <th>4</th>\n",
              "      <td>021-HLB-1874-01-07-PG001-SINGLE-ORIGNAME_10035...</td>\n",
              "      <td>HLB</td>\n",
              "      <td>1874</td>\n",
              "      <td>חלק בראש ולהיות ראש הועד (פרעזידענט) בהאסיפה. ...</td>\n",
              "      <td>3747.0</td>\n",
              "    </tr>\n",
              "  </tbody>\n",
              "</table>\n",
              "</div>"
            ],
            "text/plain": [
              "                                          article_id  ... wordsNumber\n",
              "0  021-HLB-1874-01-07-PG001-SINGLE-ORIGNAME_10035...  ...       530.0\n",
              "1  021-HLB-1874-01-07-PG001-SINGLE-ORIGNAME_10035...  ...      5669.0\n",
              "2  021-HLB-1874-01-07-PG001-SINGLE-ORIGNAME_10035...  ...      3819.0\n",
              "3  021-HLB-1874-01-07-PG001-SINGLE-ORIGNAME_10035...  ...        70.0\n",
              "4  021-HLB-1874-01-07-PG001-SINGLE-ORIGNAME_10035...  ...      3747.0\n",
              "\n",
              "[5 rows x 5 columns]"
            ]
          },
          "metadata": {},
          "execution_count": 12
        }
      ]
    },
    {
      "cell_type": "code",
      "metadata": {
        "colab": {
          "base_uri": "https://localhost:8080/",
          "height": 296
        },
        "id": "tGe2jmnNKliC",
        "outputId": "7f26a1fa-21dd-4891-addf-bb0e9ce0c902"
      },
      "source": [
        "# how many articles of each paper are in the corpus?\n",
        "all_newspapers_data['newspaper-code'].value_counts().plot(kind='bar')"
      ],
      "execution_count": null,
      "outputs": [
        {
          "output_type": "execute_result",
          "data": {
            "text/plain": [
              "<matplotlib.axes._subplots.AxesSubplot at 0x7fdfd8a09850>"
            ]
          },
          "metadata": {},
          "execution_count": 13
        },
        {
          "output_type": "display_data",
          "data": {
            "image/png": "[encoded data removed]",
            "text/plain": [
              "<Figure size 432x288 with 1 Axes>"
            ]
          },
          "metadata": {
            "needs_background": "light"
          }
        }
      ]
    },
    {
      "cell_type": "markdown",
      "metadata": {
        "id": "Zkz7vZvWLtOM"
      },
      "source": [
        "# Cleaning the data"
      ]
    },
    {
      "cell_type": "code",
      "metadata": {
        "id": "MylZe-PUKsaF"
      },
      "source": [
        "# remove nan vals\n",
        "all_newspapers_data.dropna(subset = ['text'], inplace = True)"
      ],
      "execution_count": null,
      "outputs": []
    },
    {
      "cell_type": "code",
      "metadata": {
        "id": "-5MirdJIMIyY"
      },
      "source": [
        "# remove records with text shorter than 20 words\n",
        "all_newspapers_data = all_newspapers_data[all_newspapers_data['wordsNumber'] > 20]"
      ],
      "execution_count": null,
      "outputs": []
    },
    {
      "cell_type": "code",
      "metadata": {
        "colab": {
          "base_uri": "https://localhost:8080/"
        },
        "id": "azmBUrBTM4kf",
        "outputId": "c56ca1db-ecd6-401c-a6d6-19ce89d465e9"
      },
      "source": [
        "all_newspapers_data.shape"
      ],
      "execution_count": null,
      "outputs": [
        {
          "output_type": "execute_result",
          "data": {
            "text/plain": [
              "(68968, 5)"
            ]
          },
          "metadata": {},
          "execution_count": 16
        }
      ]
    },
    {
      "cell_type": "code",
      "metadata": {
        "id": "wwOLkpVvM3vz"
      },
      "source": [
        "hebrew = {'א','ב','ג','ד','ה','ו','ז','ח','ט','י','כ','ל','מ','נ','ס','ע','פ','צ','ק','ר','ש','ת','ם','ף','ץ','ך','ן', ' '}\n",
        "def remove_non_hebrew_chars(row):\n",
        "  row['heb_text'] = row.text.replace('.', ' ')\n",
        "  row['heb_text'] = row.heb_text.replace(',', ' ')\n",
        "  row['heb_text'] = row.heb_text.replace('\"', ' ')\n",
        "  row['heb_text'] = row.heb_text.replace('-', ' ')\n",
        "  row['heb_text'] = row.heb_text.replace(\"'\", ' ')\n",
        "  row['heb_text'] = ''.join(ch for ch in row.heb_text if ch in hebrew)\n",
        "  return row"
      ],
      "execution_count": null,
      "outputs": []
    },
    {
      "cell_type": "code",
      "metadata": {
        "colab": {
          "base_uri": "https://localhost:8080/"
        },
        "id": "uTrhzOeuNR_Z",
        "outputId": "3c48e7d8-c3fd-4d00-fe34-39c0f3b197ef"
      },
      "source": [
        "# total number of words in the corpus\n",
        "all_newspapers_data.wordsNumber.sum()"
      ],
      "execution_count": null,
      "outputs": [
        {
          "output_type": "execute_result",
          "data": {
            "text/plain": [
              "151948645.0"
            ]
          },
          "metadata": {},
          "execution_count": 18
        }
      ]
    },
    {
      "cell_type": "code",
      "metadata": {
        "id": "aRlInxVQNw_y"
      },
      "source": [
        "all_newspapers_data = all_newspapers_data.apply(remove_non_hebrew_chars, axis = 1)"
      ],
      "execution_count": null,
      "outputs": []
    },
    {
      "cell_type": "code",
      "metadata": {
        "colab": {
          "base_uri": "https://localhost:8080/",
          "height": 306
        },
        "id": "_6F8dx_mOkuV",
        "outputId": "f4d3840c-325b-480b-ea2a-13aa8a02de29"
      },
      "source": [
        "all_newspapers_data.head()"
      ],
      "execution_count": null,
      "outputs": [
        {
          "output_type": "execute_result",
          "data": {
            "text/html": [
              "<div>\n",
              "<style scoped>\n",
              "    .dataframe tbody tr th:only-of-type {\n",
              "        vertical-align: middle;\n",
              "    }\n",
              "\n",
              "    .dataframe tbody tr th {\n",
              "        vertical-align: top;\n",
              "    }\n",
              "\n",
              "    .dataframe thead th {\n",
              "        text-align: right;\n",
              "    }\n",
              "</style>\n",
              "<table border=\"1\" class=\"dataframe\">\n",
              "  <thead>\n",
              "    <tr style=\"text-align: right;\">\n",
              "      <th></th>\n",
              "      <th>article_id</th>\n",
              "      <th>newspaper-code</th>\n",
              "      <th>year</th>\n",
              "      <th>text</th>\n",
              "      <th>wordsNumber</th>\n",
              "      <th>heb_text</th>\n",
              "    </tr>\n",
              "  </thead>\n",
              "  <tbody>\n",
              "    <tr>\n",
              "      <th>0</th>\n",
              "      <td>021-HLB-1874-01-07-PG001-SINGLE-ORIGNAME_10035...</td>\n",
              "      <td>HLB</td>\n",
              "      <td>1874</td>\n",
              "      <td>Hebraische Ausgabe des „sraelit  ווי נומע כא 2...</td>\n",
              "      <td>530.0</td>\n",
              "      <td>ווי נומע כא    שנה עשירית איש יכול להשיגו...</td>\n",
              "    </tr>\n",
              "    <tr>\n",
              "      <th>1</th>\n",
              "      <td>021-HLB-1874-01-07-PG001-SINGLE-ORIGNAME_10035...</td>\n",
              "      <td>HLB</td>\n",
              "      <td>1874</td>\n",
              "      <td>הנסיעה על כנפי רוח הדמיון ברום עולם כִּי אַרְא...</td>\n",
              "      <td>5669.0</td>\n",
              "      <td>הנסיעה על כנפי רוח הדמיון ברום עולם כי אראה שמ...</td>\n",
              "    </tr>\n",
              "    <tr>\n",
              "      <th>2</th>\n",
              "      <td>021-HLB-1874-01-07-PG001-SINGLE-ORIGNAME_10035...</td>\n",
              "      <td>HLB</td>\n",
              "      <td>1874</td>\n",
              "      <td>ווארשויא  תולדות בית בערקזא הן זאנגענבערג  (הע...</td>\n",
              "      <td>3819.0</td>\n",
              "      <td>ווארשויא  תולדות בית בערקזא הן זאנגענבערג  העת...</td>\n",
              "    </tr>\n",
              "    <tr>\n",
              "      <th>3</th>\n",
              "      <td>021-HLB-1874-01-07-PG001-SINGLE-ORIGNAME_10035...</td>\n",
              "      <td>HLB</td>\n",
              "      <td>1874</td>\n",
              "      <td>חדשות שונות (ההיזק אשר הגיע למדינת ספרד ע״י המ...</td>\n",
              "      <td>70.0</td>\n",
              "      <td>חדשות שונות ההיזק אשר הגיע למדינת ספרד עי המרי...</td>\n",
              "    </tr>\n",
              "    <tr>\n",
              "      <th>4</th>\n",
              "      <td>021-HLB-1874-01-07-PG001-SINGLE-ORIGNAME_10035...</td>\n",
              "      <td>HLB</td>\n",
              "      <td>1874</td>\n",
              "      <td>חלק בראש ולהיות ראש הועד (פרעזידענט) בהאסיפה. ...</td>\n",
              "      <td>3747.0</td>\n",
              "      <td>חלק בראש ולהיות ראש הועד פרעזידענט בהאסיפה  וכ...</td>\n",
              "    </tr>\n",
              "  </tbody>\n",
              "</table>\n",
              "</div>"
            ],
            "text/plain": [
              "                                          article_id  ...                                           heb_text\n",
              "0  021-HLB-1874-01-07-PG001-SINGLE-ORIGNAME_10035...  ...       ווי נומע כא    שנה עשירית איש יכול להשיגו...\n",
              "1  021-HLB-1874-01-07-PG001-SINGLE-ORIGNAME_10035...  ...  הנסיעה על כנפי רוח הדמיון ברום עולם כי אראה שמ...\n",
              "2  021-HLB-1874-01-07-PG001-SINGLE-ORIGNAME_10035...  ...  ווארשויא  תולדות בית בערקזא הן זאנגענבערג  העת...\n",
              "3  021-HLB-1874-01-07-PG001-SINGLE-ORIGNAME_10035...  ...  חדשות שונות ההיזק אשר הגיע למדינת ספרד עי המרי...\n",
              "4  021-HLB-1874-01-07-PG001-SINGLE-ORIGNAME_10035...  ...  חלק בראש ולהיות ראש הועד פרעזידענט בהאסיפה  וכ...\n",
              "\n",
              "[5 rows x 6 columns]"
            ]
          },
          "metadata": {},
          "execution_count": 20
        }
      ]
    },
    {
      "cell_type": "markdown",
      "metadata": {
        "id": "i0AR2KAiQuwI"
      },
      "source": [
        "# creating an embedding model"
      ]
    },
    {
      "cell_type": "code",
      "metadata": {
        "id": "o35vdoIUQuPF"
      },
      "source": [
        "i = 0\n",
        "\n",
        "outp = \"drive/My Drive/all_newspapers_data.txt\"\n",
        "output = open(outp, 'w')\n",
        "space = \" \"\n",
        "\n",
        "for (indx, row) in all_newspapers_data.iterrows():\n",
        "  text = row.heb_text\n",
        "  #article = space.join([t for t in text.split(' ')])\n",
        "  output.write(\"{}\\n\".format(text))\n",
        "  i += 1\n",
        "  if (i % 1000 == 0):\n",
        "      print(\"Saved \" + str(i) + \" articles\")\n",
        "\n",
        "output.close()"
      ],
      "execution_count": null,
      "outputs": []
    },
    {
      "cell_type": "code",
      "metadata": {
        "id": "59uKdvXZQNMA"
      },
      "source": [
        "def train(inp,out_model):\n",
        "\n",
        "\n",
        "    model = Word2Vec(LineSentence(inp), sg = 1, # 0=CBOW , 1= SkipGram\n",
        "                     size=100, window=5, min_count=2, workers=multiprocessing.cpu_count())\n",
        "\n",
        "    model.init_sims(replace=True)\n",
        "\n",
        "    model.save(out_model)\n",
        "\n",
        "def getModel(model):\n",
        "\n",
        "    model = Word2Vec.load(model)\n",
        "\n",
        "    return model"
      ],
      "execution_count": null,
      "outputs": []
    },
    {
      "cell_type": "code",
      "metadata": {
        "id": "M1RTP6yPRLPy"
      },
      "source": [
        "train('drive/My Drive/all_newspapers_data.txt', 'drive/My Drive/all_newspapers_data.model')"
      ],
      "execution_count": null,
      "outputs": []
    },
    {
      "cell_type": "markdown",
      "metadata": {
        "id": "5qQkpoZgear7"
      },
      "source": [
        "# Get similar to seed variants"
      ]
    },
    {
      "cell_type": "code",
      "metadata": {
        "id": "4wimaA8herUF"
      },
      "source": [
        "path = 'drive/MyDrive/Nitzan+Sinai/BHB-NLIto1920forSeed (2).tsv'\n",
        "known_variants = pd.read_csv(path, encoding='utf8', sep = '\\t',header=0)"
      ],
      "execution_count": null,
      "outputs": []
    },
    {
      "cell_type": "code",
      "metadata": {
        "colab": {
          "base_uri": "https://localhost:8080/",
          "height": 204
        },
        "id": "CpgTwxDwfB2C",
        "outputId": "72d109a5-0cde-4886-9971-e78999d7fdce"
      },
      "source": [
        "known_variants.head()"
      ],
      "execution_count": null,
      "outputs": [
        {
          "output_type": "execute_result",
          "data": {
            "text/html": [
              "<div>\n",
              "<style scoped>\n",
              "    .dataframe tbody tr th:only-of-type {\n",
              "        vertical-align: middle;\n",
              "    }\n",
              "\n",
              "    .dataframe tbody tr th {\n",
              "        vertical-align: top;\n",
              "    }\n",
              "\n",
              "    .dataframe thead th {\n",
              "        text-align: right;\n",
              "    }\n",
              "</style>\n",
              "<table border=\"1\" class=\"dataframe\">\n",
              "  <thead>\n",
              "    <tr style=\"text-align: right;\">\n",
              "      <th></th>\n",
              "      <th>attested</th>\n",
              "    </tr>\n",
              "  </thead>\n",
              "  <tbody>\n",
              "    <tr>\n",
              "      <th>0</th>\n",
              "      <td>אדדעסא</td>\n",
              "    </tr>\n",
              "    <tr>\n",
              "      <th>1</th>\n",
              "      <td>אדיסא</td>\n",
              "    </tr>\n",
              "    <tr>\n",
              "      <th>2</th>\n",
              "      <td>אדיססא</td>\n",
              "    </tr>\n",
              "    <tr>\n",
              "      <th>3</th>\n",
              "      <td>אדעס</td>\n",
              "    </tr>\n",
              "    <tr>\n",
              "      <th>4</th>\n",
              "      <td>אדעסא</td>\n",
              "    </tr>\n",
              "  </tbody>\n",
              "</table>\n",
              "</div>"
            ],
            "text/plain": [
              "  attested\n",
              "0   אדדעסא\n",
              "1    אדיסא\n",
              "2   אדיססא\n",
              "3     אדעס\n",
              "4    אדעסא"
            ]
          },
          "metadata": {},
          "execution_count": 23
        }
      ]
    },
    {
      "cell_type": "code",
      "metadata": {
        "id": "NDDCrtkEAEx2"
      },
      "source": [
        "model = getModel('drive/My Drive/all_newspapers_data.model')"
      ],
      "execution_count": null,
      "outputs": []
    },
    {
      "cell_type": "code",
      "metadata": {
        "id": "gOuytCnjCXvf"
      },
      "source": [
        "def findSimilarWordsFromSeed(known_variantsֹֹֹֹ):\n",
        "  variants_similarity_df = pd.DataFrame(columns=['variant','variant_vector', 'similar_phrase', 'similar_phrase_vector', 'similarity','tag'])\n",
        "  for variant in known_variantsֹֹֹֹ:\n",
        "    if variant not in model.wv.vocab:\n",
        "      print(variant)\n",
        "    else:\n",
        "      top_similar = model.most_similar(positive=[np.array(model[variant])], topn=20)\n",
        "      for tup in top_similar:\n",
        "        variants_similarity_df = variants_similarity_df.append({'variant': variant,'variant_vector':  model[variant], 'similar_phrase' : tup[0],'similar_phrase_vector':model[tup[0]], 'similarity': tup[1]}, ignore_index=True)\n",
        "  return variants_similarity_df"
      ],
      "execution_count": null,
      "outputs": []
    },
    {
      "cell_type": "code",
      "metadata": {
        "colab": {
          "base_uri": "https://localhost:8080/"
        },
        "id": "QxObKnD6C18F",
        "outputId": "50d0fb85-989a-485d-e25e-4da259d2d59e"
      },
      "source": [
        "emotions = findSimilarWordsFromSeed(['תוגה', 'עצב','צער','פחד','געגוע'])\n",
        "emotions.to_csv('drive/MyDrive/Nitzan+Sinai/tuga_emotions.tsv', sep = '\\t')\n",
        "happy_emotions = findSimilarWordsFromSeed(['שמחה', 'גיל','ששון','חדוה','חדווה','אהבה'])\n",
        "happy_emotions.to_csv('drive/MyDrive/Nitzan+Sinai/happy_emotions.tsv', sep = '\\t')\n",
        "times = findSimilarWordsFromSeed(['אמש', 'אשתקד','מחר','שנתיים','יובל','אתמול'])\n",
        "times.to_csv('drive/MyDrive/Nitzan+Sinai/times.tsv', sep = '\\t')\n",
        "names = findSimilarWordsFromSeed(['לינקאלן','ביסמארק','דיזראעלי','גלאדסטאן','נאפאלעאן'])\n",
        "names.to_csv('drive/MyDrive/Nitzan+Sinai/names.tsv', sep = '\\t')\n",
        "views = findSimilarWordsFromSeed(['דעמאקראטים','ניהיליסטים','ליבעראלים','ליבעראליזמוס','מאטעריאליזמוס'])\n",
        "views.to_csv('drive/MyDrive/Nitzan+Sinai/views.tsv', sep = '\\t')\n"
      ],
      "execution_count": null,
      "outputs": [
        {
          "output_type": "stream",
          "name": "stderr",
          "text": [
            "/usr/local/lib/python3.7/dist-packages/ipykernel_launcher.py:7: DeprecationWarning: Call to deprecated `__getitem__` (Method will be removed in 4.0.0, use self.wv.__getitem__() instead).\n",
            "  import sys\n",
            "/usr/local/lib/python3.7/dist-packages/ipykernel_launcher.py:7: DeprecationWarning: Call to deprecated `most_similar` (Method will be removed in 4.0.0, use self.wv.most_similar() instead).\n",
            "  import sys\n",
            "/usr/local/lib/python3.7/dist-packages/ipykernel_launcher.py:9: DeprecationWarning: Call to deprecated `__getitem__` (Method will be removed in 4.0.0, use self.wv.__getitem__() instead).\n",
            "  if __name__ == '__main__':\n"
          ]
        },
        {
          "output_type": "stream",
          "name": "stdout",
          "text": [
            "געגוע\n",
            "חדווה\n"
          ]
        }
      ]
    },
    {
      "cell_type": "code",
      "metadata": {
        "colab": {
          "base_uri": "https://localhost:8080/",
          "height": 204
        },
        "id": "ncNfrIrQDQ8Q",
        "outputId": "24d58b54-47ad-4e4e-d6f0-0fc3bed7d1d8"
      },
      "source": [
        "emotions.head()"
      ],
      "execution_count": null,
      "outputs": [
        {
          "output_type": "execute_result",
          "data": {
            "text/html": [
              "<div>\n",
              "<style scoped>\n",
              "    .dataframe tbody tr th:only-of-type {\n",
              "        vertical-align: middle;\n",
              "    }\n",
              "\n",
              "    .dataframe tbody tr th {\n",
              "        vertical-align: top;\n",
              "    }\n",
              "\n",
              "    .dataframe thead th {\n",
              "        text-align: right;\n",
              "    }\n",
              "</style>\n",
              "<table border=\"1\" class=\"dataframe\">\n",
              "  <thead>\n",
              "    <tr style=\"text-align: right;\">\n",
              "      <th></th>\n",
              "      <th>variant</th>\n",
              "      <th>variant_vector</th>\n",
              "      <th>similar_phrase</th>\n",
              "      <th>similar_phrase_vector</th>\n",
              "      <th>similarity</th>\n",
              "      <th>tag</th>\n",
              "    </tr>\n",
              "  </thead>\n",
              "  <tbody>\n",
              "    <tr>\n",
              "      <th>0</th>\n",
              "      <td>תוגה</td>\n",
              "      <td>[0.07177156, -0.075532235, -0.15710847, -0.016...</td>\n",
              "      <td>תוגה</td>\n",
              "      <td>[0.07177156, -0.075532235, -0.15710847, -0.016...</td>\n",
              "      <td>1.000000</td>\n",
              "      <td>NaN</td>\n",
              "    </tr>\n",
              "    <tr>\n",
              "      <th>1</th>\n",
              "      <td>תוגה</td>\n",
              "      <td>[0.07177156, -0.075532235, -0.15710847, -0.016...</td>\n",
              "      <td>ותוגה</td>\n",
              "      <td>[0.028818125, 0.007950918, -0.19160834, -0.033...</td>\n",
              "      <td>0.877871</td>\n",
              "      <td>NaN</td>\n",
              "    </tr>\n",
              "    <tr>\n",
              "      <th>2</th>\n",
              "      <td>תוגה</td>\n",
              "      <td>[0.07177156, -0.075532235, -0.15710847, -0.016...</td>\n",
              "      <td>עצבת</td>\n",
              "      <td>[0.07965497, -0.034195367, -0.069979794, -0.04...</td>\n",
              "      <td>0.849805</td>\n",
              "      <td>NaN</td>\n",
              "    </tr>\n",
              "    <tr>\n",
              "      <th>3</th>\n",
              "      <td>תוגה</td>\n",
              "      <td>[0.07177156, -0.075532235, -0.15710847, -0.016...</td>\n",
              "      <td>עצב</td>\n",
              "      <td>[0.041352917, -0.04432345, -0.08887646, -0.051...</td>\n",
              "      <td>0.840646</td>\n",
              "      <td>NaN</td>\n",
              "    </tr>\n",
              "    <tr>\n",
              "      <th>4</th>\n",
              "      <td>תוגה</td>\n",
              "      <td>[0.07177156, -0.075532235, -0.15710847, -0.016...</td>\n",
              "      <td>ועצב</td>\n",
              "      <td>[0.0930323, -0.128995, -0.18428303, -0.0912023...</td>\n",
              "      <td>0.822559</td>\n",
              "      <td>NaN</td>\n",
              "    </tr>\n",
              "  </tbody>\n",
              "</table>\n",
              "</div>"
            ],
            "text/plain": [
              "  variant                                     variant_vector  ... similarity tag\n",
              "0    תוגה  [0.07177156, -0.075532235, -0.15710847, -0.016...  ...   1.000000 NaN\n",
              "1    תוגה  [0.07177156, -0.075532235, -0.15710847, -0.016...  ...   0.877871 NaN\n",
              "2    תוגה  [0.07177156, -0.075532235, -0.15710847, -0.016...  ...   0.849805 NaN\n",
              "3    תוגה  [0.07177156, -0.075532235, -0.15710847, -0.016...  ...   0.840646 NaN\n",
              "4    תוגה  [0.07177156, -0.075532235, -0.15710847, -0.016...  ...   0.822559 NaN\n",
              "\n",
              "[5 rows x 6 columns]"
            ]
          },
          "metadata": {},
          "execution_count": 18
        }
      ]
    },
    {
      "cell_type": "code",
      "metadata": {
        "id": "jff7D6idesLO"
      },
      "source": [
        "variants_similarity_df = pd.DataFrame(columns=['variant','variant_vector', 'similar_phrase', 'similar_phrase_vector', 'similarity','tag'])\n",
        "for variant in known_variants['attested']:\n",
        "  variant = ''.join(ch for ch in variant if ch in hebrew)\n",
        "  if variant not in model.wv.vocab:\n",
        "    print(variant)\n",
        "  else:\n",
        "    top_similar = model.most_similar(positive=[np.array(model[variant])], topn=100)\n",
        "    for tup in top_similar:\n",
        "      variants_similarity_df = variants_similarity_df.append({'variant': variant,'variant_vector':  model[variant], 'similar_phrase' : tup[0],'similar_phrase_vector':model[tup[0]], 'similarity': tup[1]}, ignore_index=True)"
      ],
      "execution_count": null,
      "outputs": []
    },
    {
      "cell_type": "code",
      "metadata": {
        "colab": {
          "base_uri": "https://localhost:8080/",
          "height": 204
        },
        "id": "eLYdblT-gG4o",
        "outputId": "3fd70866-49a4-476b-8e18-a7b53a683801"
      },
      "source": [
        "variants_similarity_df.head()"
      ],
      "execution_count": null,
      "outputs": [
        {
          "output_type": "execute_result",
          "data": {
            "text/html": [
              "<div>\n",
              "<style scoped>\n",
              "    .dataframe tbody tr th:only-of-type {\n",
              "        vertical-align: middle;\n",
              "    }\n",
              "\n",
              "    .dataframe tbody tr th {\n",
              "        vertical-align: top;\n",
              "    }\n",
              "\n",
              "    .dataframe thead th {\n",
              "        text-align: right;\n",
              "    }\n",
              "</style>\n",
              "<table border=\"1\" class=\"dataframe\">\n",
              "  <thead>\n",
              "    <tr style=\"text-align: right;\">\n",
              "      <th></th>\n",
              "      <th>variant</th>\n",
              "      <th>variant_vector</th>\n",
              "      <th>similar_phrase</th>\n",
              "      <th>similar_phrase_vector</th>\n",
              "      <th>similarity</th>\n",
              "      <th>tag</th>\n",
              "    </tr>\n",
              "  </thead>\n",
              "  <tbody>\n",
              "    <tr>\n",
              "      <th>0</th>\n",
              "      <td>אדעס</td>\n",
              "      <td>[-0.055616375, 0.007612213, 0.11890892, -0.090...</td>\n",
              "      <td>אדעס</td>\n",
              "      <td>[-0.055616375, 0.007612213, 0.11890892, -0.090...</td>\n",
              "      <td>1.000000</td>\n",
              "      <td>NaN</td>\n",
              "    </tr>\n",
              "    <tr>\n",
              "      <th>1</th>\n",
              "      <td>אדעס</td>\n",
              "      <td>[-0.055616375, 0.007612213, 0.11890892, -0.090...</td>\n",
              "      <td>דגיעווניק</td>\n",
              "      <td>[-0.047209717, -0.08522165, 0.16138051, -0.096...</td>\n",
              "      <td>0.856773</td>\n",
              "      <td>NaN</td>\n",
              "    </tr>\n",
              "    <tr>\n",
              "      <th>2</th>\n",
              "      <td>אדעס</td>\n",
              "      <td>[-0.055616375, 0.007612213, 0.11890892, -0.090...</td>\n",
              "      <td>דניעוו</td>\n",
              "      <td>[-0.062080424, 0.026962684, 0.120786585, -0.13...</td>\n",
              "      <td>0.850116</td>\n",
              "      <td>NaN</td>\n",
              "    </tr>\n",
              "    <tr>\n",
              "      <th>3</th>\n",
              "      <td>אדעס</td>\n",
              "      <td>[-0.055616375, 0.007612213, 0.11890892, -0.090...</td>\n",
              "      <td>פטרבור</td>\n",
              "      <td>[0.004500005, 0.003853825, 0.10532285, -0.1236...</td>\n",
              "      <td>0.849917</td>\n",
              "      <td>NaN</td>\n",
              "    </tr>\n",
              "    <tr>\n",
              "      <th>4</th>\n",
              "      <td>אדעס</td>\n",
              "      <td>[-0.055616375, 0.007612213, 0.11890892, -0.090...</td>\n",
              "      <td>פעטערב</td>\n",
              "      <td>[-0.07495626, 0.0065478976, 0.102906406, -0.06...</td>\n",
              "      <td>0.846875</td>\n",
              "      <td>NaN</td>\n",
              "    </tr>\n",
              "  </tbody>\n",
              "</table>\n",
              "</div>"
            ],
            "text/plain": [
              "  variant                                     variant_vector  ... similarity tag\n",
              "0    אדעס  [-0.055616375, 0.007612213, 0.11890892, -0.090...  ...   1.000000 NaN\n",
              "1    אדעס  [-0.055616375, 0.007612213, 0.11890892, -0.090...  ...   0.856773 NaN\n",
              "2    אדעס  [-0.055616375, 0.007612213, 0.11890892, -0.090...  ...   0.850116 NaN\n",
              "3    אדעס  [-0.055616375, 0.007612213, 0.11890892, -0.090...  ...   0.849917 NaN\n",
              "4    אדעס  [-0.055616375, 0.007612213, 0.11890892, -0.090...  ...   0.846875 NaN\n",
              "\n",
              "[5 rows x 6 columns]"
            ]
          },
          "metadata": {},
          "execution_count": 24
        }
      ]
    },
    {
      "cell_type": "markdown",
      "metadata": {
        "id": "JQMxsGABglS4"
      },
      "source": [
        ""
      ]
    },
    {
      "cell_type": "code",
      "metadata": {
        "id": "WilgO2jOgmKo",
        "colab": {
          "base_uri": "https://localhost:8080/"
        },
        "outputId": "2d22d7a8-add1-4f8d-8934-9849c087d856"
      },
      "source": [
        "variants_similarity_df.variant.unique()"
      ],
      "execution_count": null,
      "outputs": [
        {
          "output_type": "execute_result",
          "data": {
            "text/plain": [
              "array(['אדעס', 'אדעסא', 'אדעססא', 'אדעססע', 'אדעסע', 'אדריאנופולי',\n",
              "       'אודיסא', 'אודסא', 'אודעססא', 'אוהעלי', 'אוטרעכט', 'אונגוואר',\n",
              "       'אוסטראה', 'אוסטרהא', 'אוקספורד', 'אזמיר', 'אזמירנה', 'אטוואצק',\n",
              "       'איגלוי', 'איזמיר', 'איטליה', 'איידטקוהנען', 'איסטאמבול',\n",
              "       'אירקוטסק', 'אלגיר', 'אלטאנא', 'אלטונא', 'אלטונה', 'אלכסנדריה',\n",
              "       'אלעקסאט', 'אמסטערדאם', 'אמסטרדאם', 'אמסטרדם', 'אמשטערדאם',\n",
              "       'אמשטרדאם', 'אמשטרדם', 'אסטראווא', 'אפען', 'אפענבאך', 'ארגיל',\n",
              "       'אתינא', 'ביינה', 'באברויסק', 'באזיליאה', 'באזעל', 'באטאשאן',\n",
              "       'באטושאן', 'באלטימאר', 'באלטימארע', 'באמבערג', 'באסטאן', 'בארג',\n",
              "       'בארדיטשוב', 'בבל', 'בברויסק', 'בגדאד', 'בהמבורג', 'בודאפעסט',\n",
              "       'בודאפעשט', 'בוטשאטש', 'בומבאי', 'בומבי', 'בומביי', 'בוקארעסט',\n",
              "       'בוקארעשט', 'בוקורעשט', 'ביאליסטאק', 'בילגוראדו', 'בילוגראדו',\n",
              "       'בירות', 'במבאי', 'במבי', 'במביי', 'בסיל', 'בסיליאה', 'בענדין',\n",
              "       'בענדער', 'בענדר', 'בערדיטשוב', 'בערדיטשעוו', 'בערן', 'בראדי',\n",
              "       'בראילוב', 'ברדיטשוב', 'ברונא', 'ברוקלין', 'ברינא', 'ברסלוי',\n",
              "       'ברעסלא', 'ברעסלוי', 'ברעסלויא', 'גנבה', 'גרבה', 'גאלאטה',\n",
              "       'גאלאטץ', 'גוזלווא', 'גינובה', 'גיסא', 'גלאגוי', 'גערשעל',\n",
              "       'גראדנא', 'גראייעווא', 'גראיעווא', 'גראסווארדיין', 'דאנציג',\n",
              "       'דובנא', 'דובראוונא', 'דיהרנפורט', 'דינאבורג', 'דמשק', 'דענווער',\n",
              "       'דעסוי', 'דעסויא', 'דעסיא', 'דעעש', 'דראהאביטש', 'דראהביטש',\n",
              "       'האאג', 'האג', 'האלבערשטאדט', 'האלברשטאדט', 'האלי', 'האליטש',\n",
              "       'האללע', 'האמבורג', 'האנויא', 'האננאפער', 'הג', 'הומבורג',\n",
              "       'הוראדנא', 'הורודנא', 'הילדעסהיים', 'המבורג', 'הנובר', 'הענא',\n",
              "       'הרובישוב', 'הרובשוב', 'וארשא', 'וארשויא', 'והראן', 'וואיטצען',\n",
              "       'וואללשטיין', 'וואנזבעק', 'וואץ', 'ווארשא', 'ווארשה', 'ווארשוי',\n",
              "       'ווארשויא', 'ווארשי', 'ווארשע', 'וואשינגטאן', 'וויזניטץ',\n",
              "       'וויטעבסק', 'וויטצען', 'ווייטצען', 'ווילנא', 'ווין', 'ווינא',\n",
              "       'ווינה', 'וויניפעג', 'וויניציא', 'וויניציאה', 'וויניציה', 'וויען',\n",
              "       'וויענא', 'ווירונא', 'ווענגראב', 'וורשא', 'ויאנה', 'וייען',\n",
              "       'וילנא', 'וינא', 'וינה', 'ויניציא', 'ויניציאה', 'וירונה', 'ולנא',\n",
              "       'ורשא', 'ורשה', 'ורשו', 'זאהרויא', 'זאלקאוו', 'זאלקווא', 'זולצבאך',\n",
              "       'זיטאמיר', 'זלאטשוב', 'חארקאוו', 'חברון', 'חוסט', 'טאלשווא',\n",
              "       'טאראנטא', 'טארנא', 'טארנאוו', 'טארנאפאל', 'טבריא', 'טבריה',\n",
              "       'טהארן', 'טהראן', 'טורינו', 'טורנא', 'טראבלס', 'טריאסטי', 'טריעסט',\n",
              "       'טריעסטי', 'טשיקאגא', 'טשענסטחאוו', 'טשערנאוויטץ', 'טשערנאוויץ',\n",
              "       'טשערנאוועץ', 'יאהאנניסבורג', 'יאנוב', 'יאס', 'יאסי', 'יאססי',\n",
              "       'יאראסלוי', 'יאראסלויא', 'יוזעפאף', 'יוזעפוף', 'יס', 'יענא',\n",
              "       'יעקאטערינאסלאוו', 'ירושלים', 'ירושלם', 'כארקאוו', 'כלכתא',\n",
              "       'כלכתה', 'לאדז', 'לאחוויץ', 'לאמזא', 'לאנדאן', 'לאנדן', 'לובלין',\n",
              "       'לונדאן', 'לונדן', 'לידא', 'לידן', 'ליווערפול', 'ליוורנא',\n",
              "       'ליוורנו', 'ליטא', 'לייפציג', 'ליססא', 'ליפסיא', 'ליק', 'לנדון',\n",
              "       'לנדן', 'לעמבערג', 'לעמברג', 'לעסלא', 'לפסיא', 'מאהילוב', 'מאהלוב',\n",
              "       'מאהליב', 'מאינץ', 'מאנטרעאל', 'מאנטשעסטער', 'מאנשעסטער',\n",
              "       'מאנשעסטר', 'מאסקווא', 'מאסקווע', 'מגנצא', 'מודינא', 'מונקאטש',\n",
              "       'מילהויזען', 'מינכען', 'מינסק', 'מינקאוויץ', 'מישקאלץ', 'מנטובה',\n",
              "       'מעזיבוז', 'מעזריטש', 'מעמעל', 'מצרים', 'נואיארק', 'נויארק',\n",
              "       'ניוארק', 'ניויארק', 'נייטרא', 'ניעזין', 'ניקלשבורג', 'נירנבערג',\n",
              "       'נעזין', 'סאלוניקו', 'סאלוניקי', 'סאראטאוו', 'סביוניטה', 'סדילקאב',\n",
              "       'סדילקאוו', 'סדילקוב', 'סובאלק', 'סופיאה', 'סופיה', 'סטאניסלאב',\n",
              "       'סטאניסלוי', 'סיגוט', 'סיגעט', 'סלאוויטא', 'סלאנים', 'סלוצק',\n",
              "       'סמירנה', 'סניאטין', 'עדינבורג', 'עוופאטאריא', 'עיש', 'עססלינגען',\n",
              "       'פאדובה', 'פאזעוואלק', 'פאזען', 'פאלטאווא', 'פאלטישען', 'פאנו',\n",
              "       'פאקש', 'פאריז', 'פאריס', 'פאריצק', 'פאריש', 'פדואה',\n",
              "       'פהילאדעלפיא', 'פהילאדעלפיע', 'פוזנא', 'פולדא', 'פולנאי', 'פונה',\n",
              "       'פטרבורג', 'פטרסבורג', 'פיורדא', 'פיזרו', 'פיטטסבורג', 'פיטסבורג',\n",
              "       'פיטרבורג', 'פיטרקוב', 'פילאדעלפיא', 'פילדלפיה', 'פיליפופולי',\n",
              "       'פינסק', 'פיעטערקוב', 'פיעטרקאב', 'פיעטרקאוו', 'פיעטרקוב',\n",
              "       'פירארא', 'פירארה', 'פירטה', 'פירינצי', 'פלאצק', 'פעטערבורג',\n",
              "       'פעטראקאוו', 'פעטרבורג', 'פעטרקוב', 'פעסט', 'פעסטה', 'פערעיאסלאוו',\n",
              "       'פעשט', 'פראג', 'פראגא', 'פראגה', 'פראמפאל', 'פראנקפורט',\n",
              "       'פראסקרוב', 'פרגא', 'פרזעמישל', 'פריבורג', 'פרמישלא', 'פרעמיסלא',\n",
              "       'פרעמישלא', 'פרעסבורג', 'פרעססבורג', 'פרשבורג', 'פשעמיסל',\n",
              "       'פשעמישל', 'צאנז', 'צובה', 'צינצינאטי', 'ציריך', 'קאוונא',\n",
              "       'קאוונע', 'קאזניץ', 'קאטאוויץ', 'קאטערינאסלאוו', 'קאירה', 'קאלאמע',\n",
              "       'קאלאמעא', 'קאלאמעיא', 'קאליס', 'קאניגסבערג', 'קאפוסט',\n",
              "       'קאפענהאגען', 'קארלסרוא', 'קארלסרוה', 'קארלסרוהע', 'קארעץ',\n",
              "       'קאשוי', 'קאשויא', 'קוגין', 'קונסטאנטינופולי', 'קונסטאנטינופלה',\n",
              "       'קוסטא', 'קוסטאן', 'קורפו', 'קושטא', 'קושטנדינה', 'קושטנטינא',\n",
              "       'קיב', 'קיוב', 'קיעב', 'קיעוו', 'קיעלץ', 'קישינוב', 'קישינעוו',\n",
              "       'קלויזענבורג', 'קליוולאנד', 'קלעא', 'קעניגסבערג', 'קעשינעוו',\n",
              "       'קראטאשין', 'קראטשין', 'קראקא', 'קראקוי', 'קראקויא', 'קרוטושין',\n",
              "       'קרימונה', 'קריסטיאניא', 'קרמונה', 'קרשאנוב', 'ראגענדארף',\n",
              "       'ראדזין', 'ראמאן', 'ראמני', 'רובנא', 'רובנה', 'רומא', 'רומה',\n",
              "       'רוסגוק', 'ריגיו', 'ריגא', 'ריגייו', 'ריגע', 'רעדעלהיים',\n",
              "       'שאלוניק', 'שאלוניקי', 'שאלונקי', 'שאראי', 'שאראיי', 'שונצין',\n",
              "       'שטאקהאלם', 'שטעטטין', 'שטעטין', 'שטראסבורג', 'שטרסבורג', 'שיקאגא',\n",
              "       'שקלאב', 'שקלאוו', 'תוניס', 'תונס'], dtype=object)"
            ]
          },
          "metadata": {},
          "execution_count": 25
        }
      ]
    },
    {
      "cell_type": "code",
      "metadata": {
        "colab": {
          "base_uri": "https://localhost:8080/"
        },
        "id": "ck69AViVgKf0",
        "outputId": "65adabdf-417a-4907-ea69-d52dd482c25a"
      },
      "source": [
        "len(variants_similarity_df.variant.unique())"
      ],
      "execution_count": null,
      "outputs": [
        {
          "output_type": "execute_result",
          "data": {
            "text/plain": [
              "453"
            ]
          },
          "metadata": {},
          "execution_count": 26
        }
      ]
    },
    {
      "cell_type": "code",
      "metadata": {
        "id": "nTaDZ9mOfJl5"
      },
      "source": [
        "variants_similarity_df.to_csv('drive/MyDrive/Nitzan+Sinai/top_50_similar_with_vectors.csv')"
      ],
      "execution_count": null,
      "outputs": []
    },
    {
      "cell_type": "code",
      "metadata": {
        "id": "T7U6gABQs1I8"
      },
      "source": [
        "variants_similarity_df = pd.read_csv('drive/MyDrive/Nitzan+Sinai/top_100_similar_with_vectors.csv')"
      ],
      "execution_count": null,
      "outputs": []
    },
    {
      "cell_type": "code",
      "metadata": {
        "colab": {
          "base_uri": "https://localhost:8080/",
          "height": 204
        },
        "id": "0FG64rXQuH8a",
        "outputId": "8acedc5f-5481-4cd7-94dc-6781c6b6f7e0"
      },
      "source": [
        "variants_similarity_df.head()"
      ],
      "execution_count": null,
      "outputs": [
        {
          "output_type": "execute_result",
          "data": {
            "text/html": [
              "<div>\n",
              "<style scoped>\n",
              "    .dataframe tbody tr th:only-of-type {\n",
              "        vertical-align: middle;\n",
              "    }\n",
              "\n",
              "    .dataframe tbody tr th {\n",
              "        vertical-align: top;\n",
              "    }\n",
              "\n",
              "    .dataframe thead th {\n",
              "        text-align: right;\n",
              "    }\n",
              "</style>\n",
              "<table border=\"1\" class=\"dataframe\">\n",
              "  <thead>\n",
              "    <tr style=\"text-align: right;\">\n",
              "      <th></th>\n",
              "      <th>Unnamed: 0</th>\n",
              "      <th>variant</th>\n",
              "      <th>variant_vector</th>\n",
              "      <th>similar_phrase</th>\n",
              "      <th>similar_phrase_vector</th>\n",
              "      <th>similarity</th>\n",
              "      <th>tag</th>\n",
              "    </tr>\n",
              "  </thead>\n",
              "  <tbody>\n",
              "    <tr>\n",
              "      <th>0</th>\n",
              "      <td>0</td>\n",
              "      <td>אדעס</td>\n",
              "      <td>[-1.10777646e-01  1.42663047e-01 -9.60657224e-...</td>\n",
              "      <td>אדעס</td>\n",
              "      <td>[-1.10777646e-01  1.42663047e-01 -9.60657224e-...</td>\n",
              "      <td>1.000000</td>\n",
              "      <td>NaN</td>\n",
              "    </tr>\n",
              "    <tr>\n",
              "      <th>1</th>\n",
              "      <td>1</td>\n",
              "      <td>אדעס</td>\n",
              "      <td>[-1.10777646e-01  1.42663047e-01 -9.60657224e-...</td>\n",
              "      <td>דגיעווניק</td>\n",
              "      <td>[-0.16541015  0.11892981 -0.05611533  0.103117...</td>\n",
              "      <td>0.874601</td>\n",
              "      <td>NaN</td>\n",
              "    </tr>\n",
              "    <tr>\n",
              "      <th>2</th>\n",
              "      <td>2</td>\n",
              "      <td>אדעס</td>\n",
              "      <td>[-1.10777646e-01  1.42663047e-01 -9.60657224e-...</td>\n",
              "      <td>גאזעטטא</td>\n",
              "      <td>[-1.53306693e-01  1.80385128e-01 -2.48833988e-...</td>\n",
              "      <td>0.870141</td>\n",
              "      <td>NaN</td>\n",
              "    </tr>\n",
              "    <tr>\n",
              "      <th>3</th>\n",
              "      <td>3</td>\n",
              "      <td>אדעס</td>\n",
              "      <td>[-1.10777646e-01  1.42663047e-01 -9.60657224e-...</td>\n",
              "      <td>ווארשאוו</td>\n",
              "      <td>[-0.13451909  0.19022076 -0.0440448   0.020023...</td>\n",
              "      <td>0.861872</td>\n",
              "      <td>NaN</td>\n",
              "    </tr>\n",
              "    <tr>\n",
              "      <th>4</th>\n",
              "      <td>4</td>\n",
              "      <td>אדעס</td>\n",
              "      <td>[-1.10777646e-01  1.42663047e-01 -9.60657224e-...</td>\n",
              "      <td>ווארשאווסקא</td>\n",
              "      <td>[-1.60322011e-01  1.45002767e-01 -2.88729090e-...</td>\n",
              "      <td>0.860700</td>\n",
              "      <td>NaN</td>\n",
              "    </tr>\n",
              "  </tbody>\n",
              "</table>\n",
              "</div>"
            ],
            "text/plain": [
              "   Unnamed: 0 variant  ... similarity tag\n",
              "0           0    אדעס  ...   1.000000 NaN\n",
              "1           1    אדעס  ...   0.874601 NaN\n",
              "2           2    אדעס  ...   0.870141 NaN\n",
              "3           3    אדעס  ...   0.861872 NaN\n",
              "4           4    אדעס  ...   0.860700 NaN\n",
              "\n",
              "[5 rows x 7 columns]"
            ]
          },
          "metadata": {},
          "execution_count": 16
        }
      ]
    },
    {
      "cell_type": "markdown",
      "metadata": {
        "id": "SKqKdKl0RW12"
      },
      "source": [
        "# Using the model to get similar words"
      ]
    },
    {
      "cell_type": "code",
      "metadata": {
        "id": "YCbj4o9JRbE5"
      },
      "source": [
        "def getModel(model):\n",
        "\n",
        "    model = Word2Vec.load(model)\n",
        "\n",
        "    return model"
      ],
      "execution_count": null,
      "outputs": []
    },
    {
      "cell_type": "code",
      "metadata": {
        "id": "egP157HRRQ8G"
      },
      "source": [
        "model = getModel('drive/My Drive/all_newspapers_data.model')\n"
      ],
      "execution_count": null,
      "outputs": []
    },
    {
      "cell_type": "code",
      "metadata": {
        "id": "L03HpybdRdI-",
        "colab": {
          "base_uri": "https://localhost:8080/"
        },
        "outputId": "e5aed681-69a8-4321-f432-70b819bade58"
      },
      "source": [
        "model.most_similar(positive=[np.array(model['ניהיליסטים'] ) ], topn=20)"
      ],
      "execution_count": null,
      "outputs": [
        {
          "output_type": "stream",
          "name": "stderr",
          "text": [
            "/usr/local/lib/python3.7/dist-packages/ipykernel_launcher.py:1: DeprecationWarning: Call to deprecated `__getitem__` (Method will be removed in 4.0.0, use self.wv.__getitem__() instead).\n",
            "  \"\"\"Entry point for launching an IPython kernel.\n",
            "/usr/local/lib/python3.7/dist-packages/ipykernel_launcher.py:1: DeprecationWarning: Call to deprecated `most_similar` (Method will be removed in 4.0.0, use self.wv.most_similar() instead).\n",
            "  \"\"\"Entry point for launching an IPython kernel.\n"
          ]
        },
        {
          "output_type": "execute_result",
          "data": {
            "text/plain": [
              "[('ניהיליסטים', 1.0),\n",
              " ('אירלאנדים', 0.8338377475738525),\n",
              " ('ונתפשו', 0.8001390695571899),\n",
              " ('אנארכיסטים', 0.7990453839302063),\n",
              " ('סרסורי', 0.7954924702644348),\n",
              " ('סאציאליסטים', 0.7924465537071228),\n",
              " ('קומוניסטים', 0.7907980680465698),\n",
              " ('וואלאכים', 0.7880046367645264),\n",
              " ('גריכים', 0.7876204252243042),\n",
              " ('ובריטאנים', 0.7820624709129333),\n",
              " ('טענטעה', 0.7819498777389526),\n",
              " ('עלזאסים', 0.7817403078079224),\n",
              " ('מהנסיכות', 0.7797787189483643),\n",
              " ('קאמוניסטים', 0.7780557870864868),\n",
              " ('עסטעררייכים', 0.7744863033294678),\n",
              " ('סוציאליסטים', 0.7726514935493469),\n",
              " ('האנארכיסטים', 0.7718356847763062),\n",
              " ('מהשוללים', 0.7716385126113892),\n",
              " ('בהבירזא', 0.7714341282844543),\n",
              " ('נהרנו', 0.7693214416503906)]"
            ]
          },
          "metadata": {},
          "execution_count": 34
        }
      ]
    },
    {
      "cell_type": "markdown",
      "metadata": {
        "id": "0jp08zVFSTrX"
      },
      "source": [
        ""
      ]
    }
  ]
}